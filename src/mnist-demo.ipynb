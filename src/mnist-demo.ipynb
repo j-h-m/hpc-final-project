{
 "cells": [
  {
   "cell_type": "markdown",
   "id": "6264e23b",
   "metadata": {},
   "source": [
    "# ipyparallel with simple MNIST classifier\n",
    " - sample from here: https://keras.io/examples/vision/mnist_convnet/"
   ]
  },
  {
   "cell_type": "code",
   "execution_count": null,
   "id": "32eff648",
   "metadata": {},
   "outputs": [],
   "source": [
    "import numpy as np\n",
    "from tensorflow import keras\n",
    "from tensorflow.keras import layers"
   ]
  },
  {
   "cell_type": "code",
   "execution_count": null,
   "id": "d980a828",
   "metadata": {},
   "outputs": [],
   "source": [
    "# Model / data parameters\n",
    "num_classes = 10\n",
    "input_shape = (28, 28, 1)\n",
    "\n",
    "# the data, split between train and test sets\n",
    "(x_train, y_train), (x_test, y_test) = keras.datasets.mnist.load_data()\n",
    "\n",
    "# Scale images to the [0, 1] range\n",
    "x_train = x_train.astype(\"float32\") / 255\n",
    "x_test = x_test.astype(\"float32\") / 255\n",
    "# Make sure images have shape (28, 28, 1)\n",
    "x_train = np.expand_dims(x_train, -1)\n",
    "x_test = np.expand_dims(x_test, -1)\n",
    "print(\"x_train shape:\", x_train.shape)\n",
    "print(x_train.shape[0], \"train samples\")\n",
    "print(x_test.shape[0], \"test samples\")\n",
    "\n",
    "\n",
    "# convert class vectors to binary class matrices\n",
    "y_train = keras.utils.to_categorical(y_train, num_classes)\n",
    "y_test = keras.utils.to_categorical(y_test, num_classes)"
   ]
  },
  {
   "cell_type": "code",
   "execution_count": null,
   "id": "319e0475",
   "metadata": {
    "scrolled": true
   },
   "outputs": [],
   "source": [
    "model = keras.Sequential(\n",
    "    [\n",
    "        keras.Input(shape=input_shape),\n",
    "        layers.Conv2D(32, kernel_size=(3, 3), activation=\"relu\"),\n",
    "        layers.MaxPooling2D(pool_size=(2, 2)),\n",
    "        layers.Conv2D(64, kernel_size=(3, 3), activation=\"relu\"),\n",
    "        layers.MaxPooling2D(pool_size=(2, 2)),\n",
    "        layers.Flatten(),\n",
    "        layers.Dropout(0.5),\n",
    "        layers.Dense(num_classes, activation=\"softmax\"),\n",
    "    ]\n",
    ")\n",
    "\n",
    "model.summary()"
   ]
  },
  {
   "cell_type": "code",
   "execution_count": null,
   "id": "29eb476c",
   "metadata": {
    "scrolled": true
   },
   "outputs": [],
   "source": [
    "batch_size = 128\n",
    "epochs = 15\n",
    "\n",
    "model.compile(loss=\"categorical_crossentropy\", optimizer=\"adam\", metrics=[\"accuracy\"])\n",
    "\n",
    "model.fit(x_train, y_train, batch_size=batch_size, epochs=epochs, validation_split=0.1)"
   ]
  },
  {
   "cell_type": "code",
   "execution_count": null,
   "id": "8dbf5fa3",
   "metadata": {},
   "outputs": [],
   "source": [
    "score = model.evaluate(x_test, y_test, verbose=0)\n",
    "print(\"Test loss:\", score[0])\n",
    "print(\"Test accuracy:\", score[1])"
   ]
  },
  {
   "cell_type": "code",
   "execution_count": null,
   "id": "9916cfd5",
   "metadata": {},
   "outputs": [],
   "source": [
    "model.save('simple_mnist.h5')"
   ]
  },
  {
   "cell_type": "markdown",
   "id": "a78a88e5",
   "metadata": {},
   "source": [
    "# setup ipyparallel engines and view "
   ]
  },
  {
   "cell_type": "code",
   "execution_count": null,
   "id": "48162cba",
   "metadata": {},
   "outputs": [],
   "source": [
    "import ipyparallel as ipp\n",
    "import time"
   ]
  },
  {
   "cell_type": "code",
   "execution_count": null,
   "id": "84e678e0",
   "metadata": {},
   "outputs": [],
   "source": [
    "! ipcluster start -n 4 --daemonize"
   ]
  },
  {
   "cell_type": "code",
   "execution_count": null,
   "id": "61f5d724",
   "metadata": {},
   "outputs": [],
   "source": [
    "client = ipp.Client()"
   ]
  },
  {
   "cell_type": "code",
   "execution_count": null,
   "id": "ffe3ce21",
   "metadata": {},
   "outputs": [],
   "source": [
    "view = client[:]"
   ]
  },
  {
   "cell_type": "markdown",
   "id": "79285ea0",
   "metadata": {},
   "source": [
    "## setup prediction data from test data "
   ]
  },
  {
   "cell_type": "code",
   "execution_count": null,
   "id": "b237bbe4",
   "metadata": {},
   "outputs": [],
   "source": [
    "x_test.shape"
   ]
  },
  {
   "cell_type": "code",
   "execution_count": null,
   "id": "4ba5b5be",
   "metadata": {},
   "outputs": [],
   "source": [
    "ds_timing = []"
   ]
  },
  {
   "cell_type": "code",
   "execution_count": null,
   "id": "9e2efefe",
   "metadata": {},
   "outputs": [],
   "source": [
    "pred1 = x_test[0:1000]\n",
    "pred2 = x_test[1000:2000]\n",
    "pred3 = x_test[2000:3000]\n",
    "pred4 = x_test[3000:4000]\n",
    "\n",
    "lbl1 = y_test[0:1000]\n",
    "lbl2 = y_test[1000:2000]\n",
    "lbl3 = y_test[2000:3000]\n",
    "lbl4 = y_test[3000:4000]"
   ]
  },
  {
   "cell_type": "code",
   "execution_count": null,
   "id": "69ecb0b1",
   "metadata": {},
   "outputs": [],
   "source": [
    "ds_timing.append((pred1, lbl1))\n",
    "ds_timing.append((pred2, lbl2))\n",
    "ds_timing.append((pred3, lbl3))\n",
    "ds_timing.append((pred4, lbl4))"
   ]
  },
  {
   "cell_type": "markdown",
   "id": "944ea7bc",
   "metadata": {},
   "source": [
    "## sequential prediction timing "
   ]
  },
  {
   "cell_type": "code",
   "execution_count": null,
   "id": "f6475053",
   "metadata": {},
   "outputs": [],
   "source": [
    "for ds in ds_timing:\n",
    "    pred, lbl = ds\n",
    "    start = time.time()\n",
    "    predictions = model.predict(pred)\n",
    "    print(f'time: {time.time() - start} seconds')"
   ]
  },
  {
   "cell_type": "code",
   "execution_count": null,
   "id": "a3340287",
   "metadata": {},
   "outputs": [],
   "source": [
    "start = time.time()\n",
    "%time predictions = model.predict(pred1)\n",
    "print(f'time: {time.time() - start} seconds')"
   ]
  },
  {
   "cell_type": "code",
   "execution_count": null,
   "id": "dd3c4993",
   "metadata": {
    "scrolled": true
   },
   "outputs": [],
   "source": [
    "np.argmax(predictions, axis=1)"
   ]
  },
  {
   "cell_type": "code",
   "execution_count": null,
   "id": "e293e74c",
   "metadata": {
    "scrolled": true
   },
   "outputs": [],
   "source": [
    "np.argmax(lbl1, axis=1)"
   ]
  },
  {
   "cell_type": "markdown",
   "id": "b787b84e",
   "metadata": {},
   "source": [
    "## parallel prediction timing "
   ]
  },
  {
   "cell_type": "code",
   "execution_count": null,
   "id": "6c0e0e9d",
   "metadata": {},
   "outputs": [],
   "source": [
    "def p_prediction(ds):\n",
    "    import time\n",
    "    import tensorflow as tf\n",
    "    model = tf.keras.models.load_model('simple_mnist.h5') # load pretrained model we saved earlier\n",
    "    \n",
    "    pred, lbl = ds\n",
    "    start = time.time()\n",
    "    predictions = model.predict(pred)\n",
    "    prediction_time = time.time() - start\n",
    "    \n",
    "    return (prediction_time, predictions)"
   ]
  },
  {
   "cell_type": "markdown",
   "id": "8c865087",
   "metadata": {},
   "source": [
    "### map function above over the list of 4 datasets created earlier"
   ]
  },
  {
   "cell_type": "code",
   "execution_count": null,
   "id": "19ab4c75",
   "metadata": {},
   "outputs": [],
   "source": [
    "p_results = view.map(p_prediction, ds_timing).get()"
   ]
  },
  {
   "cell_type": "code",
   "execution_count": null,
   "id": "85c75173",
   "metadata": {
    "scrolled": true
   },
   "outputs": [],
   "source": [
    "for res in p_results:\n",
    "    p_time, pre = res\n",
    "    print(p_time)"
   ]
  },
  {
   "cell_type": "markdown",
   "id": "b1436d95",
   "metadata": {},
   "source": [
    "## kill cluster engines and client "
   ]
  },
  {
   "cell_type": "code",
   "execution_count": null,
   "id": "89be092a",
   "metadata": {},
   "outputs": [],
   "source": [
    "! ipcluster stop\n",
    "\n",
    "client.shutdown()\n",
    "client.close()"
   ]
  }
 ],
 "metadata": {
  "kernelspec": {
   "display_name": "Python 3",
   "language": "python",
   "name": "python3"
  },
  "language_info": {
   "codemirror_mode": {
    "name": "ipython",
    "version": 3
   },
   "file_extension": ".py",
   "mimetype": "text/x-python",
   "name": "python",
   "nbconvert_exporter": "python",
   "pygments_lexer": "ipython3",
   "version": "3.7.10"
  }
 },
 "nbformat": 4,
 "nbformat_minor": 5
}
