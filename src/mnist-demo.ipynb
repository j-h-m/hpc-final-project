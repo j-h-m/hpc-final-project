{
 "cells": [
  {
   "cell_type": "markdown",
   "id": "5a1ccb86",
   "metadata": {},
   "source": [
    "# ipyparallel with simple MNIST classifier\n",
    " - sample from here: https://keras.io/examples/vision/mnist_convnet/"
   ]
  },
  {
   "cell_type": "code",
   "execution_count": 1,
   "id": "99ef12fe",
   "metadata": {},
   "outputs": [],
   "source": [
    "import numpy as np\n",
    "from tensorflow import keras\n",
    "from tensorflow.keras import layers"
   ]
  },
  {
   "cell_type": "code",
   "execution_count": 2,
   "id": "5121013a",
   "metadata": {},
   "outputs": [
    {
     "name": "stdout",
     "output_type": "stream",
     "text": [
      "x_train shape: (60000, 28, 28, 1)\n",
      "60000 train samples\n",
      "10000 test samples\n"
     ]
    }
   ],
   "source": [
    "# Model / data parameters\n",
    "num_classes = 10\n",
    "input_shape = (28, 28, 1)\n",
    "\n",
    "# the data, split between train and test sets\n",
    "(x_train, y_train), (x_test, y_test) = keras.datasets.mnist.load_data()\n",
    "\n",
    "# Scale images to the [0, 1] range\n",
    "x_train = x_train.astype(\"float32\") / 255\n",
    "x_test = x_test.astype(\"float32\") / 255\n",
    "# Make sure images have shape (28, 28, 1)\n",
    "x_train = np.expand_dims(x_train, -1)\n",
    "x_test = np.expand_dims(x_test, -1)\n",
    "print(\"x_train shape:\", x_train.shape)\n",
    "print(x_train.shape[0], \"train samples\")\n",
    "print(x_test.shape[0], \"test samples\")\n",
    "\n",
    "\n",
    "# convert class vectors to binary class matrices\n",
    "y_train = keras.utils.to_categorical(y_train, num_classes)\n",
    "y_test = keras.utils.to_categorical(y_test, num_classes)"
   ]
  },
  {
   "cell_type": "code",
   "execution_count": 3,
   "id": "f1bf75d1",
   "metadata": {
    "scrolled": true
   },
   "outputs": [
    {
     "name": "stdout",
     "output_type": "stream",
     "text": [
      "Model: \"sequential\"\n",
      "_________________________________________________________________\n",
      "Layer (type)                 Output Shape              Param #   \n",
      "=================================================================\n",
      "conv2d (Conv2D)              (None, 26, 26, 32)        320       \n",
      "_________________________________________________________________\n",
      "max_pooling2d (MaxPooling2D) (None, 13, 13, 32)        0         \n",
      "_________________________________________________________________\n",
      "conv2d_1 (Conv2D)            (None, 11, 11, 64)        18496     \n",
      "_________________________________________________________________\n",
      "max_pooling2d_1 (MaxPooling2 (None, 5, 5, 64)          0         \n",
      "_________________________________________________________________\n",
      "flatten (Flatten)            (None, 1600)              0         \n",
      "_________________________________________________________________\n",
      "dropout (Dropout)            (None, 1600)              0         \n",
      "_________________________________________________________________\n",
      "dense (Dense)                (None, 10)                16010     \n",
      "=================================================================\n",
      "Total params: 34,826\n",
      "Trainable params: 34,826\n",
      "Non-trainable params: 0\n",
      "_________________________________________________________________\n"
     ]
    }
   ],
   "source": [
    "model = keras.Sequential(\n",
    "    [\n",
    "        keras.Input(shape=input_shape),\n",
    "        layers.Conv2D(32, kernel_size=(3, 3), activation=\"relu\"),\n",
    "        layers.MaxPooling2D(pool_size=(2, 2)),\n",
    "        layers.Conv2D(64, kernel_size=(3, 3), activation=\"relu\"),\n",
    "        layers.MaxPooling2D(pool_size=(2, 2)),\n",
    "        layers.Flatten(),\n",
    "        layers.Dropout(0.5),\n",
    "        layers.Dense(num_classes, activation=\"softmax\"),\n",
    "    ]\n",
    ")\n",
    "\n",
    "model.summary()"
   ]
  },
  {
   "cell_type": "code",
   "execution_count": 4,
   "id": "4e832d26",
   "metadata": {
    "scrolled": true
   },
   "outputs": [
    {
     "name": "stdout",
     "output_type": "stream",
     "text": [
      "Epoch 1/15\n",
      "422/422 [==============================] - 11s 26ms/step - loss: 0.3666 - accuracy: 0.8897 - val_loss: 0.0862 - val_accuracy: 0.9752\n",
      "Epoch 2/15\n",
      "422/422 [==============================] - 11s 27ms/step - loss: 0.1095 - accuracy: 0.9670 - val_loss: 0.0597 - val_accuracy: 0.9827\n",
      "Epoch 3/15\n",
      "422/422 [==============================] - 11s 27ms/step - loss: 0.0816 - accuracy: 0.9754 - val_loss: 0.0459 - val_accuracy: 0.9875\n",
      "Epoch 4/15\n",
      "422/422 [==============================] - 11s 27ms/step - loss: 0.0677 - accuracy: 0.9788 - val_loss: 0.0411 - val_accuracy: 0.9892\n",
      "Epoch 5/15\n",
      "422/422 [==============================] - 11s 26ms/step - loss: 0.0588 - accuracy: 0.9822 - val_loss: 0.0353 - val_accuracy: 0.9898\n",
      "Epoch 6/15\n",
      "422/422 [==============================] - 11s 26ms/step - loss: 0.0547 - accuracy: 0.9833 - val_loss: 0.0338 - val_accuracy: 0.9902\n",
      "Epoch 7/15\n",
      "422/422 [==============================] - 11s 26ms/step - loss: 0.0496 - accuracy: 0.9844 - val_loss: 0.0319 - val_accuracy: 0.9915\n",
      "Epoch 8/15\n",
      "422/422 [==============================] - 11s 26ms/step - loss: 0.0451 - accuracy: 0.9856 - val_loss: 0.0329 - val_accuracy: 0.9923\n",
      "Epoch 9/15\n",
      "422/422 [==============================] - 11s 26ms/step - loss: 0.0419 - accuracy: 0.9861 - val_loss: 0.0332 - val_accuracy: 0.9907\n",
      "Epoch 10/15\n",
      "422/422 [==============================] - 11s 26ms/step - loss: 0.0392 - accuracy: 0.9876 - val_loss: 0.0339 - val_accuracy: 0.9917\n",
      "Epoch 11/15\n",
      "422/422 [==============================] - 11s 26ms/step - loss: 0.0390 - accuracy: 0.9875 - val_loss: 0.0300 - val_accuracy: 0.9920\n",
      "Epoch 12/15\n",
      "422/422 [==============================] - 11s 26ms/step - loss: 0.0348 - accuracy: 0.9889 - val_loss: 0.0306 - val_accuracy: 0.9910\n",
      "Epoch 13/15\n",
      "422/422 [==============================] - 11s 26ms/step - loss: 0.0339 - accuracy: 0.9892 - val_loss: 0.0310 - val_accuracy: 0.9913\n",
      "Epoch 14/15\n",
      "422/422 [==============================] - 11s 26ms/step - loss: 0.0340 - accuracy: 0.9888 - val_loss: 0.0289 - val_accuracy: 0.9930\n",
      "Epoch 15/15\n",
      "422/422 [==============================] - 11s 26ms/step - loss: 0.0319 - accuracy: 0.9897 - val_loss: 0.0304 - val_accuracy: 0.9913\n"
     ]
    },
    {
     "data": {
      "text/plain": [
       "<tensorflow.python.keras.callbacks.History at 0x1dcf1065488>"
      ]
     },
     "execution_count": 4,
     "metadata": {},
     "output_type": "execute_result"
    }
   ],
   "source": [
    "batch_size = 128\n",
    "epochs = 15\n",
    "\n",
    "model.compile(loss=\"categorical_crossentropy\", optimizer=\"adam\", metrics=[\"accuracy\"])\n",
    "\n",
    "model.fit(x_train, y_train, batch_size=batch_size, epochs=epochs, validation_split=0.1)"
   ]
  },
  {
   "cell_type": "code",
   "execution_count": 5,
   "id": "884026e6",
   "metadata": {},
   "outputs": [
    {
     "name": "stdout",
     "output_type": "stream",
     "text": [
      "Test loss: 0.022799959406256676\n",
      "Test accuracy: 0.9927999973297119\n"
     ]
    }
   ],
   "source": [
    "score = model.evaluate(x_test, y_test, verbose=0)\n",
    "print(\"Test loss:\", score[0])\n",
    "print(\"Test accuracy:\", score[1])"
   ]
  },
  {
   "cell_type": "code",
   "execution_count": 6,
   "id": "6465a287",
   "metadata": {},
   "outputs": [],
   "source": [
    "model.save('simple_mnist.h5')"
   ]
  },
  {
   "cell_type": "markdown",
   "id": "fe69b1d2",
   "metadata": {},
   "source": [
    "# setup ipyparallel engines and view "
   ]
  },
  {
   "cell_type": "code",
   "execution_count": 7,
   "id": "03c70ccb",
   "metadata": {},
   "outputs": [],
   "source": [
    "import ipyparallel as ipp\n",
    "import time"
   ]
  },
  {
   "cell_type": "code",
   "execution_count": 8,
   "id": "6ebd62ee",
   "metadata": {},
   "outputs": [],
   "source": [
    "! ipcluster start -n 4 --daemonize"
   ]
  },
  {
   "cell_type": "code",
   "execution_count": 9,
   "id": "0984736f",
   "metadata": {},
   "outputs": [],
   "source": [
    "client = ipp.Client()"
   ]
  },
  {
   "cell_type": "code",
   "execution_count": 10,
   "id": "0105589b",
   "metadata": {},
   "outputs": [],
   "source": [
    "view = client[:]"
   ]
  },
  {
   "cell_type": "markdown",
   "id": "bcaae595",
   "metadata": {},
   "source": [
    "## setup prediction data from test data "
   ]
  },
  {
   "cell_type": "code",
   "execution_count": 11,
   "id": "02a637eb",
   "metadata": {},
   "outputs": [
    {
     "data": {
      "text/plain": [
       "(10000, 28, 28, 1)"
      ]
     },
     "execution_count": 11,
     "metadata": {},
     "output_type": "execute_result"
    }
   ],
   "source": [
    "x_test.shape"
   ]
  },
  {
   "cell_type": "code",
   "execution_count": 12,
   "id": "f9bda5bc",
   "metadata": {},
   "outputs": [],
   "source": [
    "ds_timing = []"
   ]
  },
  {
   "cell_type": "code",
   "execution_count": 13,
   "id": "4d0db925",
   "metadata": {},
   "outputs": [],
   "source": [
    "pred1 = x_test[0:1000]\n",
    "pred2 = x_test[1000:2000]\n",
    "pred3 = x_test[2000:3000]\n",
    "pred4 = x_test[3000:4000]\n",
    "\n",
    "lbl1 = y_test[0:1000]\n",
    "lbl2 = y_test[1000:2000]\n",
    "lbl3 = y_test[2000:3000]\n",
    "lbl4 = y_test[3000:4000]"
   ]
  },
  {
   "cell_type": "code",
   "execution_count": 14,
   "id": "30c471d2",
   "metadata": {},
   "outputs": [],
   "source": [
    "ds_timing.append((pred1, lbl1))\n",
    "ds_timing.append((pred2, lbl2))\n",
    "ds_timing.append((pred3, lbl3))\n",
    "ds_timing.append((pred4, lbl4))"
   ]
  },
  {
   "cell_type": "markdown",
   "id": "74803e45",
   "metadata": {},
   "source": [
    "## sequential prediction timing "
   ]
  },
  {
   "cell_type": "code",
   "execution_count": 15,
   "id": "e052d554",
   "metadata": {},
   "outputs": [
    {
     "name": "stdout",
     "output_type": "stream",
     "text": [
      "time: 0.17849993705749512 seconds\n",
      "time: 0.11699891090393066 seconds\n",
      "time: 0.11700057983398438 seconds\n",
      "time: 0.11749958992004395 seconds\n"
     ]
    }
   ],
   "source": [
    "for ds in ds_timing:\n",
    "    pred, lbl = ds\n",
    "    start = time.time()\n",
    "    predictions = model.predict(pred)\n",
    "    print(f'time: {time.time() - start} seconds')"
   ]
  },
  {
   "cell_type": "code",
   "execution_count": 16,
   "id": "85218dac",
   "metadata": {},
   "outputs": [
    {
     "name": "stdout",
     "output_type": "stream",
     "text": [
      "Wall time: 115 ms\n",
      "time: 0.11550164222717285 seconds\n"
     ]
    }
   ],
   "source": [
    "start = time.time()\n",
    "%time predictions = model.predict(pred1)\n",
    "print(f'time: {time.time() - start} seconds')"
   ]
  },
  {
   "cell_type": "code",
   "execution_count": 17,
   "id": "f941b5a7",
   "metadata": {
    "scrolled": true
   },
   "outputs": [
    {
     "data": {
      "text/plain": [
       "array([7, 2, 1, 0, 4, 1, 4, 9, 5, 9, 0, 6, 9, 0, 1, 5, 9, 7, 3, 4, 9, 6,\n",
       "       6, 5, 4, 0, 7, 4, 0, 1, 3, 1, 3, 4, 7, 2, 7, 1, 2, 1, 1, 7, 4, 2,\n",
       "       3, 5, 1, 2, 4, 4, 6, 3, 5, 5, 6, 0, 4, 1, 9, 5, 7, 8, 9, 3, 7, 4,\n",
       "       6, 4, 3, 0, 7, 0, 2, 9, 1, 7, 3, 2, 9, 7, 7, 6, 2, 7, 8, 4, 7, 3,\n",
       "       6, 1, 3, 6, 9, 3, 1, 4, 1, 7, 6, 9, 6, 0, 5, 4, 9, 9, 2, 1, 9, 4,\n",
       "       8, 7, 3, 9, 7, 4, 4, 4, 9, 2, 5, 4, 7, 6, 7, 9, 0, 5, 8, 5, 6, 6,\n",
       "       5, 7, 8, 1, 0, 1, 6, 4, 6, 7, 3, 1, 7, 1, 8, 2, 0, 2, 9, 9, 5, 5,\n",
       "       1, 5, 6, 0, 3, 4, 4, 6, 5, 4, 6, 5, 4, 5, 1, 4, 4, 7, 2, 3, 2, 7,\n",
       "       1, 8, 1, 8, 1, 8, 5, 0, 8, 9, 2, 5, 0, 1, 1, 1, 0, 9, 0, 3, 1, 6,\n",
       "       4, 2, 3, 6, 1, 1, 1, 3, 9, 5, 2, 9, 4, 5, 9, 3, 9, 0, 3, 6, 5, 5,\n",
       "       7, 2, 2, 7, 1, 2, 8, 4, 1, 7, 3, 3, 8, 8, 7, 9, 2, 2, 4, 1, 5, 9,\n",
       "       8, 7, 2, 3, 0, 4, 4, 2, 4, 1, 9, 5, 7, 7, 2, 8, 2, 6, 8, 5, 7, 7,\n",
       "       9, 1, 8, 1, 8, 0, 3, 0, 1, 9, 9, 4, 1, 8, 2, 1, 2, 9, 7, 5, 9, 2,\n",
       "       6, 4, 1, 5, 8, 2, 9, 2, 0, 4, 0, 0, 2, 8, 4, 7, 1, 2, 4, 0, 2, 7,\n",
       "       4, 3, 3, 0, 0, 3, 1, 9, 6, 5, 2, 5, 9, 7, 9, 3, 0, 4, 2, 0, 7, 1,\n",
       "       1, 2, 1, 5, 3, 3, 9, 7, 8, 6, 5, 6, 1, 3, 8, 1, 0, 5, 1, 3, 1, 5,\n",
       "       5, 6, 1, 8, 5, 1, 7, 9, 4, 6, 2, 2, 5, 0, 6, 5, 6, 3, 7, 2, 0, 8,\n",
       "       8, 5, 4, 1, 1, 4, 0, 3, 3, 7, 6, 1, 6, 2, 1, 9, 2, 8, 6, 1, 9, 5,\n",
       "       2, 5, 4, 4, 2, 8, 3, 8, 2, 4, 5, 0, 3, 1, 7, 7, 5, 7, 9, 7, 1, 9,\n",
       "       2, 1, 4, 2, 9, 2, 0, 4, 9, 1, 4, 8, 1, 8, 4, 5, 9, 8, 8, 3, 7, 6,\n",
       "       0, 0, 3, 0, 2, 6, 6, 4, 9, 3, 3, 3, 2, 3, 9, 1, 2, 6, 8, 0, 5, 6,\n",
       "       6, 6, 3, 8, 8, 2, 7, 5, 8, 9, 6, 1, 8, 4, 1, 2, 5, 9, 1, 9, 7, 5,\n",
       "       4, 0, 8, 9, 9, 1, 0, 5, 2, 3, 7, 8, 9, 4, 0, 6, 3, 9, 5, 2, 1, 3,\n",
       "       1, 3, 6, 5, 7, 4, 2, 2, 6, 3, 2, 6, 5, 4, 8, 9, 7, 1, 3, 0, 3, 8,\n",
       "       3, 1, 9, 3, 4, 4, 6, 4, 2, 1, 8, 2, 5, 4, 8, 8, 4, 0, 0, 2, 3, 2,\n",
       "       7, 7, 0, 8, 7, 4, 4, 7, 9, 6, 9, 0, 9, 8, 0, 4, 6, 0, 6, 3, 5, 4,\n",
       "       8, 3, 3, 9, 3, 3, 3, 7, 8, 0, 8, 2, 1, 7, 0, 6, 5, 4, 3, 8, 0, 9,\n",
       "       6, 3, 8, 0, 9, 9, 6, 8, 6, 8, 5, 7, 8, 6, 0, 2, 4, 0, 2, 2, 3, 1,\n",
       "       9, 7, 5, 1, 0, 8, 4, 6, 2, 6, 7, 9, 3, 2, 9, 8, 2, 2, 9, 2, 7, 3,\n",
       "       5, 9, 1, 8, 0, 2, 0, 5, 4, 1, 3, 7, 6, 7, 1, 2, 5, 8, 0, 3, 7, 1,\n",
       "       4, 0, 9, 1, 8, 6, 7, 7, 4, 3, 4, 9, 1, 9, 5, 1, 7, 3, 9, 7, 6, 9,\n",
       "       1, 3, 7, 8, 3, 3, 6, 7, 2, 8, 5, 8, 5, 1, 1, 4, 4, 3, 1, 0, 7, 7,\n",
       "       0, 7, 9, 4, 4, 8, 5, 5, 4, 0, 8, 2, 1, 0, 8, 4, 5, 0, 4, 0, 6, 1,\n",
       "       7, 3, 2, 6, 7, 2, 6, 9, 3, 1, 4, 6, 2, 5, 9, 2, 0, 6, 2, 1, 7, 3,\n",
       "       4, 1, 0, 5, 4, 3, 1, 1, 7, 4, 9, 9, 4, 8, 4, 0, 2, 4, 5, 1, 1, 6,\n",
       "       4, 7, 1, 9, 4, 2, 4, 1, 5, 5, 3, 8, 3, 1, 4, 5, 6, 8, 9, 4, 1, 5,\n",
       "       3, 8, 0, 3, 2, 5, 1, 2, 8, 3, 4, 4, 0, 8, 8, 3, 3, 1, 7, 3, 5, 9,\n",
       "       6, 3, 2, 6, 1, 3, 6, 0, 7, 2, 1, 7, 1, 4, 2, 4, 2, 1, 7, 9, 6, 1,\n",
       "       1, 2, 4, 8, 1, 7, 7, 4, 8, 0, 7, 3, 1, 3, 1, 0, 7, 7, 0, 3, 5, 5,\n",
       "       2, 7, 6, 6, 9, 2, 8, 3, 5, 2, 2, 5, 6, 0, 8, 2, 9, 2, 8, 8, 8, 8,\n",
       "       7, 4, 9, 3, 0, 6, 6, 3, 2, 1, 3, 2, 2, 9, 3, 0, 0, 5, 7, 8, 1, 4,\n",
       "       4, 6, 0, 2, 9, 1, 4, 7, 4, 7, 3, 9, 8, 8, 4, 7, 1, 2, 1, 2, 2, 3,\n",
       "       2, 3, 2, 3, 9, 1, 7, 4, 0, 3, 5, 5, 8, 6, 3, 2, 6, 7, 6, 6, 3, 2,\n",
       "       7, 9, 1, 1, 7, 5, 6, 4, 9, 5, 1, 3, 3, 4, 7, 8, 9, 1, 1, 6, 9, 1,\n",
       "       4, 4, 5, 4, 0, 6, 2, 2, 3, 1, 5, 1, 2, 0, 3, 8, 1, 2, 6, 7, 1, 6,\n",
       "       2, 3, 9, 0, 1, 2, 2, 0, 8, 9], dtype=int64)"
      ]
     },
     "execution_count": 17,
     "metadata": {},
     "output_type": "execute_result"
    }
   ],
   "source": [
    "np.argmax(predictions, axis=1)"
   ]
  },
  {
   "cell_type": "code",
   "execution_count": 18,
   "id": "9b9c6349",
   "metadata": {
    "scrolled": true
   },
   "outputs": [
    {
     "data": {
      "text/plain": [
       "array([7, 2, 1, 0, 4, 1, 4, 9, 5, 9, 0, 6, 9, 0, 1, 5, 9, 7, 3, 4, 9, 6,\n",
       "       6, 5, 4, 0, 7, 4, 0, 1, 3, 1, 3, 4, 7, 2, 7, 1, 2, 1, 1, 7, 4, 2,\n",
       "       3, 5, 1, 2, 4, 4, 6, 3, 5, 5, 6, 0, 4, 1, 9, 5, 7, 8, 9, 3, 7, 4,\n",
       "       6, 4, 3, 0, 7, 0, 2, 9, 1, 7, 3, 2, 9, 7, 7, 6, 2, 7, 8, 4, 7, 3,\n",
       "       6, 1, 3, 6, 9, 3, 1, 4, 1, 7, 6, 9, 6, 0, 5, 4, 9, 9, 2, 1, 9, 4,\n",
       "       8, 7, 3, 9, 7, 4, 4, 4, 9, 2, 5, 4, 7, 6, 7, 9, 0, 5, 8, 5, 6, 6,\n",
       "       5, 7, 8, 1, 0, 1, 6, 4, 6, 7, 3, 1, 7, 1, 8, 2, 0, 2, 9, 9, 5, 5,\n",
       "       1, 5, 6, 0, 3, 4, 4, 6, 5, 4, 6, 5, 4, 5, 1, 4, 4, 7, 2, 3, 2, 7,\n",
       "       1, 8, 1, 8, 1, 8, 5, 0, 8, 9, 2, 5, 0, 1, 1, 1, 0, 9, 0, 3, 1, 6,\n",
       "       4, 2, 3, 6, 1, 1, 1, 3, 9, 5, 2, 9, 4, 5, 9, 3, 9, 0, 3, 6, 5, 5,\n",
       "       7, 2, 2, 7, 1, 2, 8, 4, 1, 7, 3, 3, 8, 8, 7, 9, 2, 2, 4, 1, 5, 9,\n",
       "       8, 7, 2, 3, 0, 4, 4, 2, 4, 1, 9, 5, 7, 7, 2, 8, 2, 6, 8, 5, 7, 7,\n",
       "       9, 1, 8, 1, 8, 0, 3, 0, 1, 9, 9, 4, 1, 8, 2, 1, 2, 9, 7, 5, 9, 2,\n",
       "       6, 4, 1, 5, 8, 2, 9, 2, 0, 4, 0, 0, 2, 8, 4, 7, 1, 2, 4, 0, 2, 7,\n",
       "       4, 3, 3, 0, 0, 3, 1, 9, 6, 5, 2, 5, 9, 2, 9, 3, 0, 4, 2, 0, 7, 1,\n",
       "       1, 2, 1, 5, 3, 3, 9, 7, 8, 6, 5, 6, 1, 3, 8, 1, 0, 5, 1, 3, 1, 5,\n",
       "       5, 6, 1, 8, 5, 1, 7, 9, 4, 6, 2, 2, 5, 0, 6, 5, 6, 3, 7, 2, 0, 8,\n",
       "       8, 5, 4, 1, 1, 4, 0, 3, 3, 7, 6, 1, 6, 2, 1, 9, 2, 8, 6, 1, 9, 5,\n",
       "       2, 5, 4, 4, 2, 8, 3, 8, 2, 4, 5, 0, 3, 1, 7, 7, 5, 7, 9, 7, 1, 9,\n",
       "       2, 1, 4, 2, 9, 2, 0, 4, 9, 1, 4, 8, 1, 8, 4, 5, 9, 8, 8, 3, 7, 6,\n",
       "       0, 0, 3, 0, 2, 6, 6, 4, 9, 3, 3, 3, 2, 3, 9, 1, 2, 6, 8, 0, 5, 6,\n",
       "       6, 6, 3, 8, 8, 2, 7, 5, 8, 9, 6, 1, 8, 4, 1, 2, 5, 9, 1, 9, 7, 5,\n",
       "       4, 0, 8, 9, 9, 1, 0, 5, 2, 3, 7, 8, 9, 4, 0, 6, 3, 9, 5, 2, 1, 3,\n",
       "       1, 3, 6, 5, 7, 4, 2, 2, 6, 3, 2, 6, 5, 4, 8, 9, 7, 1, 3, 0, 3, 8,\n",
       "       3, 1, 9, 3, 4, 4, 6, 4, 2, 1, 8, 2, 5, 4, 8, 8, 4, 0, 0, 2, 3, 2,\n",
       "       7, 7, 0, 8, 7, 4, 4, 7, 9, 6, 9, 0, 9, 8, 0, 4, 6, 0, 6, 3, 5, 4,\n",
       "       8, 3, 3, 9, 3, 3, 3, 7, 8, 0, 8, 2, 1, 7, 0, 6, 5, 4, 3, 8, 0, 9,\n",
       "       6, 3, 8, 0, 9, 9, 6, 8, 6, 8, 5, 7, 8, 6, 0, 2, 4, 0, 2, 2, 3, 1,\n",
       "       9, 7, 5, 1, 0, 8, 4, 6, 2, 6, 7, 9, 3, 2, 9, 8, 2, 2, 9, 2, 7, 3,\n",
       "       5, 9, 1, 8, 0, 2, 0, 5, 2, 1, 3, 7, 6, 7, 1, 2, 5, 8, 0, 3, 7, 2,\n",
       "       4, 0, 9, 1, 8, 6, 7, 7, 4, 3, 4, 9, 1, 9, 5, 1, 7, 3, 9, 7, 6, 9,\n",
       "       1, 3, 7, 8, 3, 3, 6, 7, 2, 8, 5, 8, 5, 1, 1, 4, 4, 3, 1, 0, 7, 7,\n",
       "       0, 7, 9, 4, 4, 8, 5, 5, 4, 0, 8, 2, 1, 0, 8, 4, 5, 0, 4, 0, 6, 1,\n",
       "       7, 3, 2, 6, 7, 2, 6, 9, 3, 1, 4, 6, 2, 5, 4, 2, 0, 6, 2, 1, 7, 3,\n",
       "       4, 1, 0, 5, 4, 3, 1, 1, 7, 4, 9, 9, 4, 8, 4, 0, 2, 4, 5, 1, 1, 6,\n",
       "       4, 7, 1, 9, 4, 2, 4, 1, 5, 5, 3, 8, 3, 1, 4, 5, 6, 8, 9, 4, 1, 5,\n",
       "       3, 8, 0, 3, 2, 5, 1, 2, 8, 3, 4, 4, 0, 8, 8, 3, 3, 1, 7, 3, 5, 9,\n",
       "       6, 3, 2, 6, 1, 3, 6, 0, 7, 2, 1, 7, 1, 4, 2, 4, 2, 1, 7, 9, 6, 1,\n",
       "       1, 2, 4, 8, 1, 7, 7, 4, 8, 0, 7, 3, 1, 3, 1, 0, 7, 7, 0, 3, 5, 5,\n",
       "       2, 7, 6, 6, 9, 2, 8, 3, 5, 2, 2, 5, 6, 0, 8, 2, 9, 2, 8, 8, 8, 8,\n",
       "       7, 4, 9, 3, 0, 6, 6, 3, 2, 1, 3, 2, 2, 9, 3, 0, 0, 5, 7, 8, 1, 4,\n",
       "       4, 6, 0, 2, 9, 1, 4, 7, 4, 7, 3, 9, 8, 8, 4, 7, 1, 2, 1, 2, 2, 3,\n",
       "       2, 3, 2, 3, 9, 1, 7, 4, 0, 3, 5, 5, 8, 6, 3, 2, 6, 7, 6, 6, 3, 2,\n",
       "       7, 8, 1, 1, 7, 5, 6, 4, 9, 5, 1, 3, 3, 4, 7, 8, 9, 1, 1, 6, 9, 1,\n",
       "       4, 4, 5, 4, 0, 6, 2, 2, 3, 1, 5, 1, 2, 0, 3, 8, 1, 2, 6, 7, 1, 6,\n",
       "       2, 3, 9, 0, 1, 2, 2, 0, 8, 9], dtype=int64)"
      ]
     },
     "execution_count": 18,
     "metadata": {},
     "output_type": "execute_result"
    }
   ],
   "source": [
    "np.argmax(lbl1, axis=1)"
   ]
  },
  {
   "cell_type": "markdown",
   "id": "2d491f24",
   "metadata": {},
   "source": [
    "## parallel prediction timing "
   ]
  },
  {
   "cell_type": "code",
   "execution_count": 19,
   "id": "3b733ff9",
   "metadata": {},
   "outputs": [],
   "source": [
    "def p_prediction(ds):\n",
    "    import time\n",
    "    import tensorflow as tf\n",
    "    model = tf.keras.models.load_model('simple_mnist.h5') # load pretrained model we saved earlier\n",
    "    \n",
    "    pred, lbl = ds\n",
    "    start = time.time()\n",
    "    predictions = model.predict(pred)\n",
    "    prediction_time = time.time() - start\n",
    "    \n",
    "    return (prediction_time, predictions)"
   ]
  },
  {
   "cell_type": "markdown",
   "id": "42948cbc",
   "metadata": {},
   "source": [
    "### map function above over the list of 4 datasets created earlier"
   ]
  },
  {
   "cell_type": "code",
   "execution_count": 20,
   "id": "f20e8311",
   "metadata": {},
   "outputs": [],
   "source": [
    "p_results = view.map(p_prediction, ds_timing).get()"
   ]
  },
  {
   "cell_type": "code",
   "execution_count": 21,
   "id": "40574af9",
   "metadata": {
    "scrolled": true
   },
   "outputs": [
    {
     "name": "stdout",
     "output_type": "stream",
     "text": [
      "0.22250127792358398\n",
      "0.22500061988830566\n",
      "0.2245018482208252\n",
      "0.24450135231018066\n"
     ]
    }
   ],
   "source": [
    "for res in p_results:\n",
    "    p_time, pre = res\n",
    "    print(p_time)"
   ]
  },
  {
   "cell_type": "markdown",
   "id": "a3a2954f",
   "metadata": {},
   "source": [
    "## kill cluster engines and client "
   ]
  },
  {
   "cell_type": "code",
   "execution_count": 22,
   "id": "0f2d64fa",
   "metadata": {},
   "outputs": [
    {
     "name": "stderr",
     "output_type": "stream",
     "text": [
      "2021-05-02 19:12:23.381 [IPClusterStop] Removing pid file: C:\\Users\\ghastly\\.ipython\\profile_default\\pid\\ipcluster.pid\n"
     ]
    }
   ],
   "source": [
    "! ipcluster stop\n",
    "\n",
    "client.shutdown()\n",
    "client.close()"
   ]
  }
 ],
 "metadata": {
  "kernelspec": {
   "display_name": "Python 3",
   "language": "python",
   "name": "python3"
  },
  "language_info": {
   "codemirror_mode": {
    "name": "ipython",
    "version": 3
   },
   "file_extension": ".py",
   "mimetype": "text/x-python",
   "name": "python",
   "nbconvert_exporter": "python",
   "pygments_lexer": "ipython3",
   "version": "3.7.10"
  }
 },
 "nbformat": 4,
 "nbformat_minor": 5
}
