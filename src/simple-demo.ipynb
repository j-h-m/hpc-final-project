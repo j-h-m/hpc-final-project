{
 "cells": [
  {
   "cell_type": "markdown",
   "id": "2a3579de",
   "metadata": {},
   "source": [
    "# simple demo of ipyparallel\n",
    " - read more about ipyparallel architecture here\n",
    " - https://ipyparallel.readthedocs.io/en/latest/intro.html#architecture-overview"
   ]
  },
  {
   "cell_type": "code",
   "execution_count": null,
   "id": "620911c6",
   "metadata": {},
   "outputs": [],
   "source": [
    "import ipyparallel as ipp\n",
    "import numpy as np\n",
    "\n",
    "# to get process information\n",
    "import os\n",
    "import psutil"
   ]
  },
  {
   "cell_type": "code",
   "execution_count": null,
   "id": "b9dde226",
   "metadata": {},
   "outputs": [],
   "source": [
    "! dir"
   ]
  },
  {
   "cell_type": "code",
   "execution_count": null,
   "id": "68731652",
   "metadata": {
    "scrolled": false
   },
   "outputs": [],
   "source": [
    "# ipcluster is part of ipyparallel\n",
    "# help documentation is listed below\n",
    "! ipcluster -h"
   ]
  },
  {
   "cell_type": "code",
   "execution_count": null,
   "id": "3de608d2",
   "metadata": {},
   "outputs": [],
   "source": [
    "# start a new cluster (which is a controller and engines, the engines are what do the work)\n",
    "# it is required to start a cluster before you can use ipyparallel\n",
    "! ipcluster start -n 4"
   ]
  },
  {
   "cell_type": "code",
   "execution_count": null,
   "id": "064c28c6",
   "metadata": {},
   "outputs": [],
   "source": [
    "# get some information on the process running jupyter notebook\n",
    "this_process = os.getpid()\n",
    "p = psutil.Process(this_process)\n",
    "p"
   ]
  },
  {
   "cell_type": "code",
   "execution_count": null,
   "id": "c8047aca",
   "metadata": {},
   "outputs": [],
   "source": [
    "# create an ipyparallel client\n",
    "client = ipp.Client()"
   ]
  },
  {
   "cell_type": "code",
   "execution_count": null,
   "id": "230be322",
   "metadata": {
    "scrolled": true
   },
   "outputs": [],
   "source": [
    "# get client ids for the 4 engines\n",
    "client.ids"
   ]
  },
  {
   "cell_type": "code",
   "execution_count": null,
   "id": "f95c4011",
   "metadata": {},
   "outputs": [],
   "source": [
    "# run a simple lambda function on all 4 engines\n",
    "client[:].apply_sync(lambda: \"hello world\")"
   ]
  },
  {
   "cell_type": "code",
   "execution_count": null,
   "id": "7a1f2b30",
   "metadata": {},
   "outputs": [],
   "source": [
    "# run a simple lambda function on a specific engine\n",
    "client[0].apply_sync(lambda: 2 ** 8)"
   ]
  },
  {
   "cell_type": "code",
   "execution_count": null,
   "id": "a55e3d44",
   "metadata": {},
   "outputs": [],
   "source": [
    "# create a direct view to execute on the engines using helper methods\n",
    "# i used the 'map' function in this example\n",
    "view = client[:]"
   ]
  },
  {
   "cell_type": "code",
   "execution_count": null,
   "id": "802c6b32",
   "metadata": {},
   "outputs": [],
   "source": [
    "# print out process information on engines\n",
    "for engine_pid in view.apply_sync(os.getpid):\n",
    "    print(psutil.Process(engine_pid))"
   ]
  },
  {
   "cell_type": "code",
   "execution_count": null,
   "id": "f19935a4",
   "metadata": {
    "scrolled": true
   },
   "outputs": [],
   "source": [
    "# create an array of 1000 random numbers from 0 to 100,000\n",
    "random_array = np.random.randint(100000, size=1000)"
   ]
  },
  {
   "cell_type": "code",
   "execution_count": null,
   "id": "2d30390f",
   "metadata": {},
   "outputs": [],
   "source": [
    "# get number of engines/processes available\n",
    "engine_count = len(client.ids)"
   ]
  },
  {
   "cell_type": "code",
   "execution_count": null,
   "id": "8472ae6b",
   "metadata": {},
   "outputs": [],
   "source": [
    "# split arrays into even segments based on number of engines\n",
    "evenly_split_arrays = np.array_split(random_array, engine_count)"
   ]
  },
  {
   "cell_type": "code",
   "execution_count": null,
   "id": "18e4d4bf",
   "metadata": {
    "scrolled": true
   },
   "outputs": [],
   "source": [
    "evenly_split_arrays"
   ]
  },
  {
   "cell_type": "code",
   "execution_count": null,
   "id": "283544c8",
   "metadata": {},
   "outputs": [],
   "source": [
    "len(evenly_split_arrays)"
   ]
  },
  {
   "cell_type": "code",
   "execution_count": null,
   "id": "73f387d1",
   "metadata": {},
   "outputs": [],
   "source": [
    "# setup blocking execution (blocking vs. non-blocking)\n",
    "view.block = True"
   ]
  },
  {
   "cell_type": "code",
   "execution_count": null,
   "id": "e21a4fb7",
   "metadata": {},
   "outputs": [],
   "source": [
    "# add up the segments\n",
    "results = view.map(sum, evenly_split_arrays)"
   ]
  },
  {
   "cell_type": "code",
   "execution_count": null,
   "id": "71484211",
   "metadata": {},
   "outputs": [],
   "source": [
    "results"
   ]
  },
  {
   "cell_type": "code",
   "execution_count": null,
   "id": "55b78cfe",
   "metadata": {},
   "outputs": [],
   "source": [
    "# total sum of all elements\n",
    "sum(results)"
   ]
  },
  {
   "cell_type": "code",
   "execution_count": null,
   "id": "139b9c00",
   "metadata": {},
   "outputs": [],
   "source": [
    "# verify results are the same as serial execution\n",
    "sum(results) == sum(random_array)"
   ]
  },
  {
   "cell_type": "code",
   "execution_count": null,
   "id": "95cb6f86",
   "metadata": {},
   "outputs": [],
   "source": [
    "# shutdown engines and close client\n",
    "! ipcluster stop\n",
    "\n",
    "client.shutdown()\n",
    "client.close()"
   ]
  }
 ],
 "metadata": {
  "kernelspec": {
   "display_name": "hpc",
   "language": "python",
   "name": "hpc"
  },
  "language_info": {
   "codemirror_mode": {
    "name": "ipython",
    "version": 3
   },
   "file_extension": ".py",
   "mimetype": "text/x-python",
   "name": "python",
   "nbconvert_exporter": "python",
   "pygments_lexer": "ipython3",
   "version": "3.7.10"
  }
 },
 "nbformat": 4,
 "nbformat_minor": 5
}
